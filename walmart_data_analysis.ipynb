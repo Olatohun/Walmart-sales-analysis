{
 "cells": [
  {
   "cell_type": "markdown",
   "id": "a0178a05",
   "metadata": {},
   "source": [
    "# Title: Exploratory Analysis and Sales Prediction on Walmart data"
   ]
  },
  {
   "cell_type": "markdown",
   "id": "974ce8cc",
   "metadata": {},
   "source": [
    "# Notebook Author : Maryam Oyeyiola\n",
    "Github : https://github.com/Olatohun"
   ]
  },
  {
   "cell_type": "code",
   "execution_count": 1,
   "id": "2fcea727",
   "metadata": {},
   "outputs": [],
   "source": [
    "# import dataset\n",
    "import pandas as pd\n",
    "\n",
    "df = pd.read_csv('Walmart_Store_sales.csv')"
   ]
  },
  {
   "cell_type": "markdown",
   "id": "b7a281df",
   "metadata": {},
   "source": [
    "--- Data description\n",
    "\n",
    "1. Store - the store number\n",
    "\n",
    "2. Date - the week of sales\n",
    "\n",
    "3. Weekly_Sales - sales for the given store\n",
    "\n",
    "4. Holiday_Flag - whether the week is a special holiday week 1 – Holiday week 0 – Non-holiday week\n",
    "\n",
    "5. Temperature - Temperature on the day of sale\n",
    "\n",
    "6. Fuel_Price - Cost of fuel in the region\n",
    "\n",
    "7. CPI – Prevailing consumer price index\n",
    "\n",
    "8. Unemployment - Prevailing unemployment rate"
   ]
  },
  {
   "cell_type": "code",
   "execution_count": 2,
   "id": "0b41cdbb",
   "metadata": {},
   "outputs": [
    {
     "data": {
      "text/html": [
       "<div>\n",
       "<style scoped>\n",
       "    .dataframe tbody tr th:only-of-type {\n",
       "        vertical-align: middle;\n",
       "    }\n",
       "\n",
       "    .dataframe tbody tr th {\n",
       "        vertical-align: top;\n",
       "    }\n",
       "\n",
       "    .dataframe thead th {\n",
       "        text-align: right;\n",
       "    }\n",
       "</style>\n",
       "<table border=\"1\" class=\"dataframe\">\n",
       "  <thead>\n",
       "    <tr style=\"text-align: right;\">\n",
       "      <th></th>\n",
       "      <th>Store</th>\n",
       "      <th>Date</th>\n",
       "      <th>Weekly_Sales</th>\n",
       "      <th>Holiday_Flag</th>\n",
       "      <th>Temperature</th>\n",
       "      <th>Fuel_Price</th>\n",
       "      <th>CPI</th>\n",
       "      <th>Unemployment</th>\n",
       "    </tr>\n",
       "  </thead>\n",
       "  <tbody>\n",
       "    <tr>\n",
       "      <th>0</th>\n",
       "      <td>1</td>\n",
       "      <td>05-02-2010</td>\n",
       "      <td>1643690.90</td>\n",
       "      <td>0</td>\n",
       "      <td>42.31</td>\n",
       "      <td>2.572</td>\n",
       "      <td>211.096358</td>\n",
       "      <td>8.106</td>\n",
       "    </tr>\n",
       "    <tr>\n",
       "      <th>1</th>\n",
       "      <td>1</td>\n",
       "      <td>12-02-2010</td>\n",
       "      <td>1641957.44</td>\n",
       "      <td>1</td>\n",
       "      <td>38.51</td>\n",
       "      <td>2.548</td>\n",
       "      <td>211.242170</td>\n",
       "      <td>8.106</td>\n",
       "    </tr>\n",
       "    <tr>\n",
       "      <th>2</th>\n",
       "      <td>1</td>\n",
       "      <td>19-02-2010</td>\n",
       "      <td>1611968.17</td>\n",
       "      <td>0</td>\n",
       "      <td>39.93</td>\n",
       "      <td>2.514</td>\n",
       "      <td>211.289143</td>\n",
       "      <td>8.106</td>\n",
       "    </tr>\n",
       "    <tr>\n",
       "      <th>3</th>\n",
       "      <td>1</td>\n",
       "      <td>26-02-2010</td>\n",
       "      <td>1409727.59</td>\n",
       "      <td>0</td>\n",
       "      <td>46.63</td>\n",
       "      <td>2.561</td>\n",
       "      <td>211.319643</td>\n",
       "      <td>8.106</td>\n",
       "    </tr>\n",
       "    <tr>\n",
       "      <th>4</th>\n",
       "      <td>1</td>\n",
       "      <td>05-03-2010</td>\n",
       "      <td>1554806.68</td>\n",
       "      <td>0</td>\n",
       "      <td>46.50</td>\n",
       "      <td>2.625</td>\n",
       "      <td>211.350143</td>\n",
       "      <td>8.106</td>\n",
       "    </tr>\n",
       "    <tr>\n",
       "      <th>5</th>\n",
       "      <td>1</td>\n",
       "      <td>12-03-2010</td>\n",
       "      <td>1439541.59</td>\n",
       "      <td>0</td>\n",
       "      <td>57.79</td>\n",
       "      <td>2.667</td>\n",
       "      <td>211.380643</td>\n",
       "      <td>8.106</td>\n",
       "    </tr>\n",
       "    <tr>\n",
       "      <th>6</th>\n",
       "      <td>1</td>\n",
       "      <td>19-03-2010</td>\n",
       "      <td>1472515.79</td>\n",
       "      <td>0</td>\n",
       "      <td>54.58</td>\n",
       "      <td>2.720</td>\n",
       "      <td>211.215635</td>\n",
       "      <td>8.106</td>\n",
       "    </tr>\n",
       "    <tr>\n",
       "      <th>7</th>\n",
       "      <td>1</td>\n",
       "      <td>26-03-2010</td>\n",
       "      <td>1404429.92</td>\n",
       "      <td>0</td>\n",
       "      <td>51.45</td>\n",
       "      <td>2.732</td>\n",
       "      <td>211.018042</td>\n",
       "      <td>8.106</td>\n",
       "    </tr>\n",
       "    <tr>\n",
       "      <th>8</th>\n",
       "      <td>1</td>\n",
       "      <td>02-04-2010</td>\n",
       "      <td>1594968.28</td>\n",
       "      <td>0</td>\n",
       "      <td>62.27</td>\n",
       "      <td>2.719</td>\n",
       "      <td>210.820450</td>\n",
       "      <td>7.808</td>\n",
       "    </tr>\n",
       "    <tr>\n",
       "      <th>9</th>\n",
       "      <td>1</td>\n",
       "      <td>09-04-2010</td>\n",
       "      <td>1545418.53</td>\n",
       "      <td>0</td>\n",
       "      <td>65.86</td>\n",
       "      <td>2.770</td>\n",
       "      <td>210.622857</td>\n",
       "      <td>7.808</td>\n",
       "    </tr>\n",
       "    <tr>\n",
       "      <th>10</th>\n",
       "      <td>1</td>\n",
       "      <td>16-04-2010</td>\n",
       "      <td>1466058.28</td>\n",
       "      <td>0</td>\n",
       "      <td>66.32</td>\n",
       "      <td>2.808</td>\n",
       "      <td>210.488700</td>\n",
       "      <td>7.808</td>\n",
       "    </tr>\n",
       "    <tr>\n",
       "      <th>11</th>\n",
       "      <td>1</td>\n",
       "      <td>23-04-2010</td>\n",
       "      <td>1391256.12</td>\n",
       "      <td>0</td>\n",
       "      <td>64.84</td>\n",
       "      <td>2.795</td>\n",
       "      <td>210.439123</td>\n",
       "      <td>7.808</td>\n",
       "    </tr>\n",
       "    <tr>\n",
       "      <th>12</th>\n",
       "      <td>1</td>\n",
       "      <td>30-04-2010</td>\n",
       "      <td>1425100.71</td>\n",
       "      <td>0</td>\n",
       "      <td>67.41</td>\n",
       "      <td>2.780</td>\n",
       "      <td>210.389546</td>\n",
       "      <td>7.808</td>\n",
       "    </tr>\n",
       "    <tr>\n",
       "      <th>13</th>\n",
       "      <td>1</td>\n",
       "      <td>07-05-2010</td>\n",
       "      <td>1603955.12</td>\n",
       "      <td>0</td>\n",
       "      <td>72.55</td>\n",
       "      <td>2.835</td>\n",
       "      <td>210.339968</td>\n",
       "      <td>7.808</td>\n",
       "    </tr>\n",
       "    <tr>\n",
       "      <th>14</th>\n",
       "      <td>1</td>\n",
       "      <td>14-05-2010</td>\n",
       "      <td>1494251.50</td>\n",
       "      <td>0</td>\n",
       "      <td>74.78</td>\n",
       "      <td>2.854</td>\n",
       "      <td>210.337426</td>\n",
       "      <td>7.808</td>\n",
       "    </tr>\n",
       "  </tbody>\n",
       "</table>\n",
       "</div>"
      ],
      "text/plain": [
       "    Store        Date  Weekly_Sales  Holiday_Flag  Temperature  Fuel_Price  \\\n",
       "0       1  05-02-2010    1643690.90             0        42.31       2.572   \n",
       "1       1  12-02-2010    1641957.44             1        38.51       2.548   \n",
       "2       1  19-02-2010    1611968.17             0        39.93       2.514   \n",
       "3       1  26-02-2010    1409727.59             0        46.63       2.561   \n",
       "4       1  05-03-2010    1554806.68             0        46.50       2.625   \n",
       "5       1  12-03-2010    1439541.59             0        57.79       2.667   \n",
       "6       1  19-03-2010    1472515.79             0        54.58       2.720   \n",
       "7       1  26-03-2010    1404429.92             0        51.45       2.732   \n",
       "8       1  02-04-2010    1594968.28             0        62.27       2.719   \n",
       "9       1  09-04-2010    1545418.53             0        65.86       2.770   \n",
       "10      1  16-04-2010    1466058.28             0        66.32       2.808   \n",
       "11      1  23-04-2010    1391256.12             0        64.84       2.795   \n",
       "12      1  30-04-2010    1425100.71             0        67.41       2.780   \n",
       "13      1  07-05-2010    1603955.12             0        72.55       2.835   \n",
       "14      1  14-05-2010    1494251.50             0        74.78       2.854   \n",
       "\n",
       "           CPI  Unemployment  \n",
       "0   211.096358         8.106  \n",
       "1   211.242170         8.106  \n",
       "2   211.289143         8.106  \n",
       "3   211.319643         8.106  \n",
       "4   211.350143         8.106  \n",
       "5   211.380643         8.106  \n",
       "6   211.215635         8.106  \n",
       "7   211.018042         8.106  \n",
       "8   210.820450         7.808  \n",
       "9   210.622857         7.808  \n",
       "10  210.488700         7.808  \n",
       "11  210.439123         7.808  \n",
       "12  210.389546         7.808  \n",
       "13  210.339968         7.808  \n",
       "14  210.337426         7.808  "
      ]
     },
     "execution_count": 2,
     "metadata": {},
     "output_type": "execute_result"
    }
   ],
   "source": [
    "df.head(15)"
   ]
  },
  {
   "cell_type": "code",
   "execution_count": 3,
   "id": "54f7e396",
   "metadata": {},
   "outputs": [
    {
     "data": {
      "text/plain": [
       "Store           0\n",
       "Date            0\n",
       "Weekly_Sales    0\n",
       "Holiday_Flag    0\n",
       "Temperature     0\n",
       "Fuel_Price      0\n",
       "CPI             0\n",
       "Unemployment    0\n",
       "dtype: int64"
      ]
     },
     "execution_count": 3,
     "metadata": {},
     "output_type": "execute_result"
    }
   ],
   "source": [
    "df.isnull().sum()"
   ]
  },
  {
   "cell_type": "code",
   "execution_count": 4,
   "id": "83704f78",
   "metadata": {},
   "outputs": [
    {
     "data": {
      "text/plain": [
       "(6435, 8)"
      ]
     },
     "execution_count": 4,
     "metadata": {},
     "output_type": "execute_result"
    }
   ],
   "source": [
    "df.shape"
   ]
  },
  {
   "cell_type": "code",
   "execution_count": 5,
   "id": "f6d8884a",
   "metadata": {},
   "outputs": [
    {
     "name": "stdout",
     "output_type": "stream",
     "text": [
      "<class 'pandas.core.frame.DataFrame'>\n",
      "RangeIndex: 6435 entries, 0 to 6434\n",
      "Data columns (total 8 columns):\n",
      " #   Column        Non-Null Count  Dtype  \n",
      "---  ------        --------------  -----  \n",
      " 0   Store         6435 non-null   int64  \n",
      " 1   Date          6435 non-null   object \n",
      " 2   Weekly_Sales  6435 non-null   float64\n",
      " 3   Holiday_Flag  6435 non-null   int64  \n",
      " 4   Temperature   6435 non-null   float64\n",
      " 5   Fuel_Price    6435 non-null   float64\n",
      " 6   CPI           6435 non-null   float64\n",
      " 7   Unemployment  6435 non-null   float64\n",
      "dtypes: float64(5), int64(2), object(1)\n",
      "memory usage: 402.3+ KB\n"
     ]
    }
   ],
   "source": [
    "df.info()"
   ]
  },
  {
   "cell_type": "code",
   "execution_count": 6,
   "id": "66d20a64",
   "metadata": {},
   "outputs": [
    {
     "data": {
      "text/html": [
       "<div>\n",
       "<style scoped>\n",
       "    .dataframe tbody tr th:only-of-type {\n",
       "        vertical-align: middle;\n",
       "    }\n",
       "\n",
       "    .dataframe tbody tr th {\n",
       "        vertical-align: top;\n",
       "    }\n",
       "\n",
       "    .dataframe thead th {\n",
       "        text-align: right;\n",
       "    }\n",
       "</style>\n",
       "<table border=\"1\" class=\"dataframe\">\n",
       "  <thead>\n",
       "    <tr style=\"text-align: right;\">\n",
       "      <th></th>\n",
       "      <th>Store</th>\n",
       "      <th>Weekly_Sales</th>\n",
       "      <th>Holiday_Flag</th>\n",
       "      <th>Temperature</th>\n",
       "      <th>Fuel_Price</th>\n",
       "      <th>CPI</th>\n",
       "      <th>Unemployment</th>\n",
       "    </tr>\n",
       "  </thead>\n",
       "  <tbody>\n",
       "    <tr>\n",
       "      <th>count</th>\n",
       "      <td>6435.000000</td>\n",
       "      <td>6.435000e+03</td>\n",
       "      <td>6435.000000</td>\n",
       "      <td>6435.000000</td>\n",
       "      <td>6435.000000</td>\n",
       "      <td>6435.000000</td>\n",
       "      <td>6435.000000</td>\n",
       "    </tr>\n",
       "    <tr>\n",
       "      <th>mean</th>\n",
       "      <td>23.000000</td>\n",
       "      <td>1.046965e+06</td>\n",
       "      <td>0.069930</td>\n",
       "      <td>60.663782</td>\n",
       "      <td>3.358607</td>\n",
       "      <td>171.578394</td>\n",
       "      <td>7.999151</td>\n",
       "    </tr>\n",
       "    <tr>\n",
       "      <th>std</th>\n",
       "      <td>12.988182</td>\n",
       "      <td>5.643666e+05</td>\n",
       "      <td>0.255049</td>\n",
       "      <td>18.444933</td>\n",
       "      <td>0.459020</td>\n",
       "      <td>39.356712</td>\n",
       "      <td>1.875885</td>\n",
       "    </tr>\n",
       "    <tr>\n",
       "      <th>min</th>\n",
       "      <td>1.000000</td>\n",
       "      <td>2.099862e+05</td>\n",
       "      <td>0.000000</td>\n",
       "      <td>-2.060000</td>\n",
       "      <td>2.472000</td>\n",
       "      <td>126.064000</td>\n",
       "      <td>3.879000</td>\n",
       "    </tr>\n",
       "    <tr>\n",
       "      <th>25%</th>\n",
       "      <td>12.000000</td>\n",
       "      <td>5.533501e+05</td>\n",
       "      <td>0.000000</td>\n",
       "      <td>47.460000</td>\n",
       "      <td>2.933000</td>\n",
       "      <td>131.735000</td>\n",
       "      <td>6.891000</td>\n",
       "    </tr>\n",
       "    <tr>\n",
       "      <th>50%</th>\n",
       "      <td>23.000000</td>\n",
       "      <td>9.607460e+05</td>\n",
       "      <td>0.000000</td>\n",
       "      <td>62.670000</td>\n",
       "      <td>3.445000</td>\n",
       "      <td>182.616521</td>\n",
       "      <td>7.874000</td>\n",
       "    </tr>\n",
       "    <tr>\n",
       "      <th>75%</th>\n",
       "      <td>34.000000</td>\n",
       "      <td>1.420159e+06</td>\n",
       "      <td>0.000000</td>\n",
       "      <td>74.940000</td>\n",
       "      <td>3.735000</td>\n",
       "      <td>212.743293</td>\n",
       "      <td>8.622000</td>\n",
       "    </tr>\n",
       "    <tr>\n",
       "      <th>max</th>\n",
       "      <td>45.000000</td>\n",
       "      <td>3.818686e+06</td>\n",
       "      <td>1.000000</td>\n",
       "      <td>100.140000</td>\n",
       "      <td>4.468000</td>\n",
       "      <td>227.232807</td>\n",
       "      <td>14.313000</td>\n",
       "    </tr>\n",
       "  </tbody>\n",
       "</table>\n",
       "</div>"
      ],
      "text/plain": [
       "             Store  Weekly_Sales  Holiday_Flag  Temperature   Fuel_Price  \\\n",
       "count  6435.000000  6.435000e+03   6435.000000  6435.000000  6435.000000   \n",
       "mean     23.000000  1.046965e+06      0.069930    60.663782     3.358607   \n",
       "std      12.988182  5.643666e+05      0.255049    18.444933     0.459020   \n",
       "min       1.000000  2.099862e+05      0.000000    -2.060000     2.472000   \n",
       "25%      12.000000  5.533501e+05      0.000000    47.460000     2.933000   \n",
       "50%      23.000000  9.607460e+05      0.000000    62.670000     3.445000   \n",
       "75%      34.000000  1.420159e+06      0.000000    74.940000     3.735000   \n",
       "max      45.000000  3.818686e+06      1.000000   100.140000     4.468000   \n",
       "\n",
       "               CPI  Unemployment  \n",
       "count  6435.000000   6435.000000  \n",
       "mean    171.578394      7.999151  \n",
       "std      39.356712      1.875885  \n",
       "min     126.064000      3.879000  \n",
       "25%     131.735000      6.891000  \n",
       "50%     182.616521      7.874000  \n",
       "75%     212.743293      8.622000  \n",
       "max     227.232807     14.313000  "
      ]
     },
     "execution_count": 6,
     "metadata": {},
     "output_type": "execute_result"
    }
   ],
   "source": [
    "# get dataset's statistic summary\n",
    "df.describe()"
   ]
  },
  {
   "cell_type": "code",
   "execution_count": 7,
   "id": "f77dfb7d",
   "metadata": {},
   "outputs": [
    {
     "data": {
      "text/plain": [
       "0      2010-05-02\n",
       "1      2010-12-02\n",
       "2      2010-02-19\n",
       "3      2010-02-26\n",
       "4      2010-05-03\n",
       "          ...    \n",
       "6430   2012-09-28\n",
       "6431   2012-05-10\n",
       "6432   2012-12-10\n",
       "6433   2012-10-19\n",
       "6434   2012-10-26\n",
       "Name: Date, Length: 6435, dtype: datetime64[ns]"
      ]
     },
     "execution_count": 7,
     "metadata": {},
     "output_type": "execute_result"
    }
   ],
   "source": [
    "# format date feature\n",
    "from datetime import datetime\n",
    "\n",
    "df.Date = pd.to_datetime(df.Date)\n",
    "df.Date"
   ]
  },
  {
   "cell_type": "code",
   "execution_count": 8,
   "id": "d3c3360a",
   "metadata": {},
   "outputs": [],
   "source": [
    "# split date feature in separate columns\n",
    "\n",
    "df['Year']=df.Date.dt.year\n",
    "df['Month']=df.Date.dt.month\n",
    "df['Day']=df.Date.dt.day"
   ]
  },
  {
   "cell_type": "code",
   "execution_count": 9,
   "id": "6c605108",
   "metadata": {},
   "outputs": [
    {
     "data": {
      "text/plain": [
       "2011    2340\n",
       "2010    2160\n",
       "2012    1935\n",
       "Name: Year, dtype: int64"
      ]
     },
     "execution_count": 9,
     "metadata": {},
     "output_type": "execute_result"
    }
   ],
   "source": [
    "# see range of data, year-wise\n",
    "df.Year.value_counts()"
   ]
  },
  {
   "cell_type": "markdown",
   "id": "8755a20e",
   "metadata": {},
   "source": [
    "# Question 1 - Which store has maximum sales "
   ]
  },
  {
   "cell_type": "code",
   "execution_count": 10,
   "id": "b8d3dfc0",
   "metadata": {},
   "outputs": [
    {
     "data": {
      "image/png": "[encoded data removed]",
      "text/plain": [
       "<Figure size 1080x504 with 1 Axes>"
      ]
     },
     "metadata": {
      "needs_background": "light"
     },
     "output_type": "display_data"
    }
   ],
   "source": [
    "import matplotlib.pyplot as plt\n",
    "%matplotlib inline\n",
    "\n",
    "\n",
    "df_ = df.groupby('Store')['Weekly_Sales'].sum().sort_values() # summary of total sales for each store\n",
    "\n",
    "# plot resuls\n",
    "plt.ticklabel_format(useOffset=False, style='plain', axis='y')\n",
    "df_.plot(kind='bar', figsize=(15,7), color='#00008B', \n",
    "         title='Total Sales For Each Store',\n",
    "         xlabel='Store Number', ylabel='Sales')\n",
    "plt.show()"
   ]
  },
  {
   "cell_type": "code",
   "execution_count": 11,
   "id": "eb44a5db",
   "metadata": {},
   "outputs": [
    {
     "name": "stdout",
     "output_type": "stream",
     "text": [
      "The store with the highest sale is store 20, with a total sales of $301397792.46\n"
     ]
    }
   ],
   "source": [
    "# output result\n",
    "\n",
    "print('The store with the highest sale is store 20, with a total sales of ${t}'\n",
    "      .format(t=round(sum(df.loc[df.Store==20, \"Weekly_Sales\"]), 2)))"
   ]
  },
  {
   "cell_type": "markdown",
   "id": "a7d437e2",
   "metadata": {},
   "source": [
    "# Question 2 -  Which store has maximum standard deviation i.e., the sales vary a lot. Also, find out the coefficient of mean to standard deviation"
   ]
  },
  {
   "cell_type": "code",
   "execution_count": 12,
   "id": "1e7c880d",
   "metadata": {},
   "outputs": [
    {
     "data": {
      "image/png": "[encoded data removed]",
      "text/plain": [
       "<Figure size 1080x504 with 1 Axes>"
      ]
     },
     "metadata": {
      "needs_background": "light"
     },
     "output_type": "display_data"
    }
   ],
   "source": [
    "# calculating and plotting the standard deviation\n",
    "\n",
    "std =df.groupby('Store')['Weekly_Sales'].std().sort_values() # get standard deviation for each store\n",
    "\n",
    "# plot results\n",
    "plt.ticklabel_format(useOffset=False, style='plain', axis='y')\n",
    "std.plot(kind='bar', figsize=(15,7), color='#00008B', \n",
    "         title='Standard Deviation For Each Store',\n",
    "         xlabel='Store Number', ylabel='Standarad Deviation')\n",
    "plt.show()"
   ]
  },
  {
   "cell_type": "code",
   "execution_count": 13,
   "id": "f46fe22f",
   "metadata": {},
   "outputs": [
    {
     "name": "stdout",
     "output_type": "stream",
     "text": [
      "The store with the highest standard deviation is store 14, with a standard deviation of 317569.95\n"
     ]
    }
   ],
   "source": [
    "print('The store with the highest standard deviation is store {store}, with a standard deviation of {std}'\n",
    "      .format(store=std.index[-1], std=round(std.max(),2)))"
   ]
  },
  {
   "cell_type": "code",
   "execution_count": 14,
   "id": "90175001",
   "metadata": {},
   "outputs": [
    {
     "data": {
      "text/plain": [
       "2107676.87"
      ]
     },
     "execution_count": 14,
     "metadata": {},
     "output_type": "execute_result"
    }
   ],
   "source": [
    "# get mean for each store's sales\n",
    "mean =df.groupby('Store')['Weekly_Sales'].mean().sort_values()\n",
    "round(mean.max(),2) #output maximum mean value"
   ]
  },
  {
   "cell_type": "code",
   "execution_count": 15,
   "id": "faaaea9b",
   "metadata": {},
   "outputs": [
    {
     "name": "stdout",
     "output_type": "stream",
     "text": [
      "Store number: 35 \n",
      "Coefficient: 0.229681\n"
     ]
    }
   ],
   "source": [
    "# check coefficient\n",
    "coeff = (std/mean).sort_values(ascending=False)\n",
    "# coeff\n",
    "print('Store number:', coeff.index[0], '\\nCoefficient:', round(coeff.max(),6))"
   ]
  },
  {
   "cell_type": "code",
   "execution_count": 16,
   "id": "b1eb9041",
   "metadata": {},
   "outputs": [
    {
     "data": {
      "text/plain": [
       "Text(0.5, 1.0, 'Sales Distribution of Store 35')"
      ]
     },
     "execution_count": 16,
     "metadata": {},
     "output_type": "execute_result"
    },
    {
     "data": {
      "image/png": "[encoded data removed]",
      "text/plain": [
       "<Figure size 576x288 with 1 Axes>"
      ]
     },
     "metadata": {
      "needs_background": "light"
     },
     "output_type": "display_data"
    }
   ],
   "source": [
    "import warnings\n",
    "warnings.filterwarnings('ignore')\n",
    "import seaborn as sns\n",
    "\n",
    "# group data by store number\n",
    "store = df.groupby('Store')\n",
    "store_35 = store.get_group(35) #get data for store 35\n",
    "\n",
    "# plot results\n",
    "plt.figure(figsize=(8,4))\n",
    "sns.distplot(store_35['Weekly_Sales'])\n",
    "plt.title('Sales Distribution of Store 35')"
   ]
  },
  {
   "cell_type": "markdown",
   "id": "634061f6",
   "metadata": {},
   "source": [
    "# Question 3 - Which store/s has good quarterly growth rate in third quarter of 2012"
   ]
  },
  {
   "cell_type": "markdown",
   "id": "c1a555e4",
   "metadata": {},
   "source": [
    "Strategy:\n",
    "\n",
    "Subtract the previous period revenue from the current period revenue. Calculate the current period revenue minus the previous period revenue. For example, if you are comparing Q4 earnings with Q3 earnings, subtract the Q3 revenue from the Q4 revenue."
   ]
  },
  {
   "cell_type": "code",
   "execution_count": 17,
   "id": "6b31df7c",
   "metadata": {},
   "outputs": [
    {
     "data": {
      "text/html": [
       "<div>\n",
       "<style scoped>\n",
       "    .dataframe tbody tr th:only-of-type {\n",
       "        vertical-align: middle;\n",
       "    }\n",
       "\n",
       "    .dataframe tbody tr th {\n",
       "        vertical-align: top;\n",
       "    }\n",
       "\n",
       "    .dataframe thead th {\n",
       "        text-align: right;\n",
       "    }\n",
       "</style>\n",
       "<table border=\"1\" class=\"dataframe\">\n",
       "  <thead>\n",
       "    <tr style=\"text-align: right;\">\n",
       "      <th></th>\n",
       "      <th>Store</th>\n",
       "      <th>Date</th>\n",
       "      <th>Weekly_Sales</th>\n",
       "      <th>Holiday_Flag</th>\n",
       "      <th>Temperature</th>\n",
       "      <th>Fuel_Price</th>\n",
       "      <th>CPI</th>\n",
       "      <th>Unemployment</th>\n",
       "      <th>Year</th>\n",
       "      <th>Month</th>\n",
       "      <th>Day</th>\n",
       "    </tr>\n",
       "  </thead>\n",
       "  <tbody>\n",
       "    <tr>\n",
       "      <th>100</th>\n",
       "      <td>1</td>\n",
       "      <td>2012-06-01</td>\n",
       "      <td>1550369.92</td>\n",
       "      <td>0</td>\n",
       "      <td>49.01</td>\n",
       "      <td>3.157</td>\n",
       "      <td>219.714258</td>\n",
       "      <td>7.348</td>\n",
       "      <td>2012</td>\n",
       "      <td>6</td>\n",
       "      <td>1</td>\n",
       "    </tr>\n",
       "    <tr>\n",
       "      <th>101</th>\n",
       "      <td>1</td>\n",
       "      <td>2012-01-13</td>\n",
       "      <td>1459601.17</td>\n",
       "      <td>0</td>\n",
       "      <td>48.53</td>\n",
       "      <td>3.261</td>\n",
       "      <td>219.892526</td>\n",
       "      <td>7.348</td>\n",
       "      <td>2012</td>\n",
       "      <td>1</td>\n",
       "      <td>13</td>\n",
       "    </tr>\n",
       "    <tr>\n",
       "      <th>102</th>\n",
       "      <td>1</td>\n",
       "      <td>2012-01-20</td>\n",
       "      <td>1394393.84</td>\n",
       "      <td>0</td>\n",
       "      <td>54.11</td>\n",
       "      <td>3.268</td>\n",
       "      <td>219.985689</td>\n",
       "      <td>7.348</td>\n",
       "      <td>2012</td>\n",
       "      <td>1</td>\n",
       "      <td>20</td>\n",
       "    </tr>\n",
       "    <tr>\n",
       "      <th>103</th>\n",
       "      <td>1</td>\n",
       "      <td>2012-01-27</td>\n",
       "      <td>1319325.59</td>\n",
       "      <td>0</td>\n",
       "      <td>54.26</td>\n",
       "      <td>3.290</td>\n",
       "      <td>220.078852</td>\n",
       "      <td>7.348</td>\n",
       "      <td>2012</td>\n",
       "      <td>1</td>\n",
       "      <td>27</td>\n",
       "    </tr>\n",
       "    <tr>\n",
       "      <th>104</th>\n",
       "      <td>1</td>\n",
       "      <td>2012-03-02</td>\n",
       "      <td>1636339.65</td>\n",
       "      <td>0</td>\n",
       "      <td>56.55</td>\n",
       "      <td>3.360</td>\n",
       "      <td>220.172015</td>\n",
       "      <td>7.348</td>\n",
       "      <td>2012</td>\n",
       "      <td>3</td>\n",
       "      <td>2</td>\n",
       "    </tr>\n",
       "    <tr>\n",
       "      <th>...</th>\n",
       "      <td>...</td>\n",
       "      <td>...</td>\n",
       "      <td>...</td>\n",
       "      <td>...</td>\n",
       "      <td>...</td>\n",
       "      <td>...</td>\n",
       "      <td>...</td>\n",
       "      <td>...</td>\n",
       "      <td>...</td>\n",
       "      <td>...</td>\n",
       "      <td>...</td>\n",
       "    </tr>\n",
       "    <tr>\n",
       "      <th>6430</th>\n",
       "      <td>45</td>\n",
       "      <td>2012-09-28</td>\n",
       "      <td>713173.95</td>\n",
       "      <td>0</td>\n",
       "      <td>64.88</td>\n",
       "      <td>3.997</td>\n",
       "      <td>192.013558</td>\n",
       "      <td>8.684</td>\n",
       "      <td>2012</td>\n",
       "      <td>9</td>\n",
       "      <td>28</td>\n",
       "    </tr>\n",
       "    <tr>\n",
       "      <th>6431</th>\n",
       "      <td>45</td>\n",
       "      <td>2012-05-10</td>\n",
       "      <td>733455.07</td>\n",
       "      <td>0</td>\n",
       "      <td>64.89</td>\n",
       "      <td>3.985</td>\n",
       "      <td>192.170412</td>\n",
       "      <td>8.667</td>\n",
       "      <td>2012</td>\n",
       "      <td>5</td>\n",
       "      <td>10</td>\n",
       "    </tr>\n",
       "    <tr>\n",
       "      <th>6432</th>\n",
       "      <td>45</td>\n",
       "      <td>2012-12-10</td>\n",
       "      <td>734464.36</td>\n",
       "      <td>0</td>\n",
       "      <td>54.47</td>\n",
       "      <td>4.000</td>\n",
       "      <td>192.327265</td>\n",
       "      <td>8.667</td>\n",
       "      <td>2012</td>\n",
       "      <td>12</td>\n",
       "      <td>10</td>\n",
       "    </tr>\n",
       "    <tr>\n",
       "      <th>6433</th>\n",
       "      <td>45</td>\n",
       "      <td>2012-10-19</td>\n",
       "      <td>718125.53</td>\n",
       "      <td>0</td>\n",
       "      <td>56.47</td>\n",
       "      <td>3.969</td>\n",
       "      <td>192.330854</td>\n",
       "      <td>8.667</td>\n",
       "      <td>2012</td>\n",
       "      <td>10</td>\n",
       "      <td>19</td>\n",
       "    </tr>\n",
       "    <tr>\n",
       "      <th>6434</th>\n",
       "      <td>45</td>\n",
       "      <td>2012-10-26</td>\n",
       "      <td>760281.43</td>\n",
       "      <td>0</td>\n",
       "      <td>58.85</td>\n",
       "      <td>3.882</td>\n",
       "      <td>192.308899</td>\n",
       "      <td>8.667</td>\n",
       "      <td>2012</td>\n",
       "      <td>10</td>\n",
       "      <td>26</td>\n",
       "    </tr>\n",
       "  </tbody>\n",
       "</table>\n",
       "<p>1935 rows × 11 columns</p>\n",
       "</div>"
      ],
      "text/plain": [
       "      Store       Date  Weekly_Sales  Holiday_Flag  Temperature  Fuel_Price  \\\n",
       "100       1 2012-06-01    1550369.92             0        49.01       3.157   \n",
       "101       1 2012-01-13    1459601.17             0        48.53       3.261   \n",
       "102       1 2012-01-20    1394393.84             0        54.11       3.268   \n",
       "103       1 2012-01-27    1319325.59             0        54.26       3.290   \n",
       "104       1 2012-03-02    1636339.65             0        56.55       3.360   \n",
       "...     ...        ...           ...           ...          ...         ...   \n",
       "6430     45 2012-09-28     713173.95             0        64.88       3.997   \n",
       "6431     45 2012-05-10     733455.07             0        64.89       3.985   \n",
       "6432     45 2012-12-10     734464.36             0        54.47       4.000   \n",
       "6433     45 2012-10-19     718125.53             0        56.47       3.969   \n",
       "6434     45 2012-10-26     760281.43             0        58.85       3.882   \n",
       "\n",
       "             CPI  Unemployment  Year  Month  Day  \n",
       "100   219.714258         7.348  2012      6    1  \n",
       "101   219.892526         7.348  2012      1   13  \n",
       "102   219.985689         7.348  2012      1   20  \n",
       "103   220.078852         7.348  2012      1   27  \n",
       "104   220.172015         7.348  2012      3    2  \n",
       "...          ...           ...   ...    ...  ...  \n",
       "6430  192.013558         8.684  2012      9   28  \n",
       "6431  192.170412         8.667  2012      5   10  \n",
       "6432  192.327265         8.667  2012     12   10  \n",
       "6433  192.330854         8.667  2012     10   19  \n",
       "6434  192.308899         8.667  2012     10   26  \n",
       "\n",
       "[1935 rows x 11 columns]"
      ]
     },
     "execution_count": 17,
     "metadata": {},
     "output_type": "execute_result"
    }
   ],
   "source": [
    "year = df.groupby('Year')\n",
    "year_2012 = year.get_group(2012)\n",
    "\n",
    "year_2012"
   ]
  },
  {
   "cell_type": "code",
   "execution_count": 18,
   "id": "35f68500",
   "metadata": {},
   "outputs": [
    {
     "data": {
      "text/html": [
       "<div>\n",
       "<style scoped>\n",
       "    .dataframe tbody tr th:only-of-type {\n",
       "        vertical-align: middle;\n",
       "    }\n",
       "\n",
       "    .dataframe tbody tr th {\n",
       "        vertical-align: top;\n",
       "    }\n",
       "\n",
       "    .dataframe thead th {\n",
       "        text-align: right;\n",
       "    }\n",
       "</style>\n",
       "<table border=\"1\" class=\"dataframe\">\n",
       "  <thead>\n",
       "    <tr style=\"text-align: right;\">\n",
       "      <th></th>\n",
       "      <th>Store</th>\n",
       "      <th>Date</th>\n",
       "      <th>Weekly_Sales</th>\n",
       "      <th>Holiday_Flag</th>\n",
       "      <th>Temperature</th>\n",
       "      <th>Fuel_Price</th>\n",
       "      <th>CPI</th>\n",
       "      <th>Unemployment</th>\n",
       "      <th>Year</th>\n",
       "      <th>Month</th>\n",
       "      <th>Day</th>\n",
       "    </tr>\n",
       "  </thead>\n",
       "  <tbody>\n",
       "    <tr>\n",
       "      <th>100</th>\n",
       "      <td>1</td>\n",
       "      <td>2012-06-01</td>\n",
       "      <td>1550369.92</td>\n",
       "      <td>0</td>\n",
       "      <td>49.01</td>\n",
       "      <td>3.157</td>\n",
       "      <td>219.714258</td>\n",
       "      <td>7.348</td>\n",
       "      <td>2012</td>\n",
       "      <td>6</td>\n",
       "      <td>1</td>\n",
       "    </tr>\n",
       "    <tr>\n",
       "      <th>113</th>\n",
       "      <td>1</td>\n",
       "      <td>2012-06-04</td>\n",
       "      <td>1899676.88</td>\n",
       "      <td>0</td>\n",
       "      <td>70.43</td>\n",
       "      <td>3.891</td>\n",
       "      <td>221.435611</td>\n",
       "      <td>7.143</td>\n",
       "      <td>2012</td>\n",
       "      <td>6</td>\n",
       "      <td>4</td>\n",
       "    </tr>\n",
       "    <tr>\n",
       "      <th>114</th>\n",
       "      <td>1</td>\n",
       "      <td>2012-04-13</td>\n",
       "      <td>1621031.70</td>\n",
       "      <td>0</td>\n",
       "      <td>69.07</td>\n",
       "      <td>3.891</td>\n",
       "      <td>221.510210</td>\n",
       "      <td>7.143</td>\n",
       "      <td>2012</td>\n",
       "      <td>4</td>\n",
       "      <td>13</td>\n",
       "    </tr>\n",
       "    <tr>\n",
       "      <th>115</th>\n",
       "      <td>1</td>\n",
       "      <td>2012-04-20</td>\n",
       "      <td>1521577.87</td>\n",
       "      <td>0</td>\n",
       "      <td>66.76</td>\n",
       "      <td>3.877</td>\n",
       "      <td>221.564074</td>\n",
       "      <td>7.143</td>\n",
       "      <td>2012</td>\n",
       "      <td>4</td>\n",
       "      <td>20</td>\n",
       "    </tr>\n",
       "    <tr>\n",
       "      <th>116</th>\n",
       "      <td>1</td>\n",
       "      <td>2012-04-27</td>\n",
       "      <td>1468928.37</td>\n",
       "      <td>0</td>\n",
       "      <td>67.23</td>\n",
       "      <td>3.814</td>\n",
       "      <td>221.617937</td>\n",
       "      <td>7.143</td>\n",
       "      <td>2012</td>\n",
       "      <td>4</td>\n",
       "      <td>27</td>\n",
       "    </tr>\n",
       "  </tbody>\n",
       "</table>\n",
       "</div>"
      ],
      "text/plain": [
       "     Store       Date  Weekly_Sales  Holiday_Flag  Temperature  Fuel_Price  \\\n",
       "100      1 2012-06-01    1550369.92             0        49.01       3.157   \n",
       "113      1 2012-06-04    1899676.88             0        70.43       3.891   \n",
       "114      1 2012-04-13    1621031.70             0        69.07       3.891   \n",
       "115      1 2012-04-20    1521577.87             0        66.76       3.877   \n",
       "116      1 2012-04-27    1468928.37             0        67.23       3.814   \n",
       "\n",
       "            CPI  Unemployment  Year  Month  Day  \n",
       "100  219.714258         7.348  2012      6    1  \n",
       "113  221.435611         7.143  2012      6    4  \n",
       "114  221.510210         7.143  2012      4   13  \n",
       "115  221.564074         7.143  2012      4   20  \n",
       "116  221.617937         7.143  2012      4   27  "
      ]
     },
     "metadata": {},
     "output_type": "display_data"
    },
    {
     "data": {
      "text/html": [
       "<div>\n",
       "<style scoped>\n",
       "    .dataframe tbody tr th:only-of-type {\n",
       "        vertical-align: middle;\n",
       "    }\n",
       "\n",
       "    .dataframe tbody tr th {\n",
       "        vertical-align: top;\n",
       "    }\n",
       "\n",
       "    .dataframe thead th {\n",
       "        text-align: right;\n",
       "    }\n",
       "</style>\n",
       "<table border=\"1\" class=\"dataframe\">\n",
       "  <thead>\n",
       "    <tr style=\"text-align: right;\">\n",
       "      <th></th>\n",
       "      <th>Store</th>\n",
       "      <th>Date</th>\n",
       "      <th>Weekly_Sales</th>\n",
       "      <th>Holiday_Flag</th>\n",
       "      <th>Temperature</th>\n",
       "      <th>Fuel_Price</th>\n",
       "      <th>CPI</th>\n",
       "      <th>Unemployment</th>\n",
       "      <th>Year</th>\n",
       "      <th>Month</th>\n",
       "      <th>Day</th>\n",
       "    </tr>\n",
       "  </thead>\n",
       "  <tbody>\n",
       "    <tr>\n",
       "      <th>109</th>\n",
       "      <td>1</td>\n",
       "      <td>2012-09-03</td>\n",
       "      <td>1675431.16</td>\n",
       "      <td>0</td>\n",
       "      <td>58.76</td>\n",
       "      <td>3.669</td>\n",
       "      <td>221.059189</td>\n",
       "      <td>7.348</td>\n",
       "      <td>2012</td>\n",
       "      <td>9</td>\n",
       "      <td>3</td>\n",
       "    </tr>\n",
       "    <tr>\n",
       "      <th>122</th>\n",
       "      <td>1</td>\n",
       "      <td>2012-08-06</td>\n",
       "      <td>1697230.96</td>\n",
       "      <td>0</td>\n",
       "      <td>78.30</td>\n",
       "      <td>3.452</td>\n",
       "      <td>221.749484</td>\n",
       "      <td>7.143</td>\n",
       "      <td>2012</td>\n",
       "      <td>8</td>\n",
       "      <td>6</td>\n",
       "    </tr>\n",
       "    <tr>\n",
       "      <th>127</th>\n",
       "      <td>1</td>\n",
       "      <td>2012-07-13</td>\n",
       "      <td>1527014.04</td>\n",
       "      <td>0</td>\n",
       "      <td>77.12</td>\n",
       "      <td>3.256</td>\n",
       "      <td>221.924158</td>\n",
       "      <td>6.908</td>\n",
       "      <td>2012</td>\n",
       "      <td>7</td>\n",
       "      <td>13</td>\n",
       "    </tr>\n",
       "    <tr>\n",
       "      <th>128</th>\n",
       "      <td>1</td>\n",
       "      <td>2012-07-20</td>\n",
       "      <td>1497954.76</td>\n",
       "      <td>0</td>\n",
       "      <td>80.42</td>\n",
       "      <td>3.311</td>\n",
       "      <td>221.932727</td>\n",
       "      <td>6.908</td>\n",
       "      <td>2012</td>\n",
       "      <td>7</td>\n",
       "      <td>20</td>\n",
       "    </tr>\n",
       "    <tr>\n",
       "      <th>129</th>\n",
       "      <td>1</td>\n",
       "      <td>2012-07-27</td>\n",
       "      <td>1439123.71</td>\n",
       "      <td>0</td>\n",
       "      <td>82.66</td>\n",
       "      <td>3.407</td>\n",
       "      <td>221.941295</td>\n",
       "      <td>6.908</td>\n",
       "      <td>2012</td>\n",
       "      <td>7</td>\n",
       "      <td>27</td>\n",
       "    </tr>\n",
       "  </tbody>\n",
       "</table>\n",
       "</div>"
      ],
      "text/plain": [
       "     Store       Date  Weekly_Sales  Holiday_Flag  Temperature  Fuel_Price  \\\n",
       "109      1 2012-09-03    1675431.16             0        58.76       3.669   \n",
       "122      1 2012-08-06    1697230.96             0        78.30       3.452   \n",
       "127      1 2012-07-13    1527014.04             0        77.12       3.256   \n",
       "128      1 2012-07-20    1497954.76             0        80.42       3.311   \n",
       "129      1 2012-07-27    1439123.71             0        82.66       3.407   \n",
       "\n",
       "            CPI  Unemployment  Year  Month  Day  \n",
       "109  221.059189         7.348  2012      9    3  \n",
       "122  221.749484         7.143  2012      8    6  \n",
       "127  221.924158         6.908  2012      7   13  \n",
       "128  221.932727         6.908  2012      7   20  \n",
       "129  221.941295         6.908  2012      7   27  "
      ]
     },
     "metadata": {},
     "output_type": "display_data"
    }
   ],
   "source": [
    "# Q3 begins July - September\n",
    "# Q3 begins april - june\n",
    "Q2 = year_2012.loc[year_2012.Month.isin([4,5,6])]\n",
    "Q3 = year_2012.loc[year_2012.Month.isin([7,8,9])]\n",
    "\n",
    "display(Q2.head())\n",
    "display(Q3.head())"
   ]
  },
  {
   "cell_type": "code",
   "execution_count": 19,
   "id": "f3eeec6b",
   "metadata": {},
   "outputs": [],
   "source": [
    "Q2_sales = Q2.groupby('Store')['Weekly_Sales'].sum().sort_values() #sales of each store in Q2\n",
    "Q3_sales = Q3.groupby('Store')['Weekly_Sales'].sum().sort_values() #sales of each store in Q2"
   ]
  },
  {
   "cell_type": "code",
   "execution_count": 20,
   "id": "b87808d6",
   "metadata": {},
   "outputs": [
    {
     "data": {
      "image/png": "[encoded data removed]",
      "text/plain": [
       "<Figure size 1080x504 with 1 Axes>"
      ]
     },
     "metadata": {
      "needs_background": "light"
     },
     "output_type": "display_data"
    }
   ],
   "source": [
    "# plot results\n",
    "\n",
    "plt.ticklabel_format(useOffset=False, style='plain', axis='y')\n",
    "Q3_sales.plot(kind='bar', figsize=(15,7), color='#00008B', \n",
    "              title='Total Sale Of Each Store in The 3rd Quarter of 2012',\n",
    "              xlabel='Store Number', ylabel='Sales')\n",
    "plt.show()"
   ]
  },
  {
   "cell_type": "code",
   "execution_count": 21,
   "id": "72d5dc70",
   "metadata": {},
   "outputs": [
    {
     "data": {
      "text/plain": [
       "Store\n",
       "33     3177072.43\n",
       "36     3578123.58\n",
       "5      3880621.88\n",
       "44     4020486.01\n",
       "3      4966495.93\n",
       "38     5129297.64\n",
       "30     5181974.44\n",
       "29     6127862.07\n",
       "37     6250524.08\n",
       "16     6441311.11\n",
       "9      6528239.56\n",
       "42     6830839.86\n",
       "15     6909374.37\n",
       "7      7322393.92\n",
       "43     7376726.03\n",
       "25     8309440.44\n",
       "21     8403507.99\n",
       "45     8851242.32\n",
       "35    10252122.68\n",
       "8     10873860.34\n",
       "34    11476258.98\n",
       "17    11533998.38\n",
       "40    11647661.37\n",
       "12    11777508.50\n",
       "22    11818544.33\n",
       "26    12417575.35\n",
       "18    12507521.72\n",
       "32    14142164.84\n",
       "28    15055659.67\n",
       "11    16094363.07\n",
       "24    16125999.86\n",
       "41    16373588.44\n",
       "31    16454328.46\n",
       "19    16644341.31\n",
       "23    17103654.36\n",
       "6     18341221.11\n",
       "1     18633209.98\n",
       "39    18899955.17\n",
       "14    20140430.40\n",
       "27    20191238.11\n",
       "10    21169356.45\n",
       "2     22396867.61\n",
       "13    24319994.35\n",
       "20    24665938.11\n",
       "4     25652119.35\n",
       "Name: Weekly_Sales, dtype: float64"
      ]
     },
     "execution_count": 21,
     "metadata": {},
     "output_type": "execute_result"
    }
   ],
   "source": [
    "Q3_sales"
   ]
  },
  {
   "cell_type": "code",
   "execution_count": 22,
   "id": "dfdda5d3",
   "metadata": {},
   "outputs": [
    {
     "name": "stdout",
     "output_type": "stream",
     "text": [
      "The store with the highest sales in the third quarter is store 4, with a total sales of 25652119.35\n"
     ]
    }
   ],
   "source": [
    "print('The store with the highest sales in the third quarter is store {store}, with a total sales of {sales}'\n",
    "      .format(store=Q3_sales.index[-1], sales=round(Q3_sales.max(),2)))"
   ]
  },
  {
   "cell_type": "code",
   "execution_count": 23,
   "id": "c23910ed",
   "metadata": {},
   "outputs": [
    {
     "data": {
      "text/html": [
       "<div>\n",
       "<style scoped>\n",
       "    .dataframe tbody tr th:only-of-type {\n",
       "        vertical-align: middle;\n",
       "    }\n",
       "\n",
       "    .dataframe tbody tr th {\n",
       "        vertical-align: top;\n",
       "    }\n",
       "\n",
       "    .dataframe thead th {\n",
       "        text-align: right;\n",
       "    }\n",
       "</style>\n",
       "<table border=\"1\" class=\"dataframe\">\n",
       "  <thead>\n",
       "    <tr style=\"text-align: right;\">\n",
       "      <th></th>\n",
       "      <th>Q2_Sales</th>\n",
       "      <th>Q3_Sales</th>\n",
       "    </tr>\n",
       "    <tr>\n",
       "      <th>Store</th>\n",
       "      <th></th>\n",
       "      <th></th>\n",
       "    </tr>\n",
       "  </thead>\n",
       "  <tbody>\n",
       "    <tr>\n",
       "      <th>33</th>\n",
       "      <td>3512138.05</td>\n",
       "      <td>3177072.43</td>\n",
       "    </tr>\n",
       "    <tr>\n",
       "      <th>36</th>\n",
       "      <td>4090378.90</td>\n",
       "      <td>3578123.58</td>\n",
       "    </tr>\n",
       "    <tr>\n",
       "      <th>44</th>\n",
       "      <td>4322555.33</td>\n",
       "      <td>4020486.01</td>\n",
       "    </tr>\n",
       "    <tr>\n",
       "      <th>5</th>\n",
       "      <td>4427262.21</td>\n",
       "      <td>3880621.88</td>\n",
       "    </tr>\n",
       "    <tr>\n",
       "      <th>3</th>\n",
       "      <td>5562668.16</td>\n",
       "      <td>4966495.93</td>\n",
       "    </tr>\n",
       "  </tbody>\n",
       "</table>\n",
       "</div>"
      ],
      "text/plain": [
       "         Q2_Sales    Q3_Sales\n",
       "Store                        \n",
       "33     3512138.05  3177072.43\n",
       "36     4090378.90  3578123.58\n",
       "44     4322555.33  4020486.01\n",
       "5      4427262.21  3880621.88\n",
       "3      5562668.16  4966495.93"
      ]
     },
     "execution_count": 23,
     "metadata": {},
     "output_type": "execute_result"
    }
   ],
   "source": [
    "df2 = pd.DataFrame()\n",
    "df2[\"Q2_Sales\"] = Q2_sales\n",
    "df2[\"Q3_Sales\"] = Q3_sales\n",
    "\n",
    "df2.head()"
   ]
  },
  {
   "cell_type": "code",
   "execution_count": 24,
   "id": "7b2aef77",
   "metadata": {},
   "outputs": [],
   "source": [
    "# subtract Q2 from Q3\n",
    "Q_diff = Q3_sales - Q2_sales\n",
    "\n",
    "# (divide difference by Q2) * 100\n",
    "Q_growth = (Q_diff/Q2_sales) * 100"
   ]
  },
  {
   "cell_type": "code",
   "execution_count": 25,
   "id": "8b33892a",
   "metadata": {},
   "outputs": [
    {
     "data": {
      "text/plain": [
       "Store\n",
       "16    -2.789294\n",
       "7     -3.824738\n",
       "35    -4.663086\n",
       "26    -6.057624\n",
       "39    -6.396875\n",
       "23    -6.452678\n",
       "41    -6.756521\n",
       "44    -6.988212\n",
       "32    -8.258527\n",
       "37    -8.881539\n",
       "8     -8.885460\n",
       "21    -8.917697\n",
       "19    -9.123188\n",
       "24    -9.242314\n",
       "13    -9.264673\n",
       "40    -9.354939\n",
       "33    -9.540218\n",
       "18    -9.593152\n",
       "4     -9.625310\n",
       "31    -9.835123\n",
       "11    -9.982231\n",
       "25   -10.143607\n",
       "42   -10.217957\n",
       "10   -10.293384\n",
       "30   -10.444624\n",
       "20   -10.469051\n",
       "43   -10.474373\n",
       "38   -10.520358\n",
       "27   -10.633092\n",
       "2    -10.716535\n",
       "3    -10.717379\n",
       "17   -10.719910\n",
       "12   -10.731580\n",
       "34   -10.746352\n",
       "22   -11.332535\n",
       "28   -11.364302\n",
       "1    -11.426342\n",
       "6    -11.518899\n",
       "9    -12.152357\n",
       "15   -12.183321\n",
       "5    -12.347142\n",
       "36   -12.523420\n",
       "29   -12.888364\n",
       "45   -13.889207\n",
       "14   -17.551086\n",
       "Name: Weekly_Sales, dtype: float64"
      ]
     },
     "execution_count": 25,
     "metadata": {},
     "output_type": "execute_result"
    }
   ],
   "source": [
    "# view result\n",
    "Q_growth.sort_values(ascending=False)"
   ]
  },
  {
   "cell_type": "code",
   "execution_count": 26,
   "id": "e6193269",
   "metadata": {},
   "outputs": [
    {
     "data": {
      "text/plain": [
       "<AxesSubplot:xlabel='Store', ylabel='Weekly_Sales'>"
      ]
     },
     "execution_count": 26,
     "metadata": {},
     "output_type": "execute_result"
    },
    {
     "data": {
      "image/png": "[encoded data removed]",
      "text/plain": [
       "<Figure size 1080x360 with 1 Axes>"
      ]
     },
     "metadata": {
      "needs_background": "light"
     },
     "output_type": "display_data"
    }
   ],
   "source": [
    "# plot result\n",
    "plt.figure(figsize=(15,5))\n",
    "sns.barplot(x=df2.index, y = Q_growth, data = df2)"
   ]
  },
  {
   "cell_type": "code",
   "execution_count": 27,
   "id": "7aeb07ca",
   "metadata": {},
   "outputs": [
    {
     "name": "stdout",
     "output_type": "stream",
     "text": [
      "The store with the highest growth is store 16, with a growth of -2.79%\n"
     ]
    }
   ],
   "source": [
    "store = Q_growth.sort_values(ascending=False)\n",
    "\n",
    "print('The store with the highest growth is store {store}, with a growth of {growth}%'\n",
    "      .format(store=store.index[0], growth=round(store.max(),2)))"
   ]
  },
  {
   "cell_type": "markdown",
   "id": "a3622432",
   "metadata": {},
   "source": [
    "# Question 4 - Some holidays have a negative impact on sales. Find out holidays which have higher sales than the mean sales in non-holiday season for all stores together"
   ]
  },
  {
   "cell_type": "markdown",
   "id": "bc20d3eb",
   "metadata": {},
   "source": [
    "--- Holiday Events\n",
    "\n",
    "Super Bowl: 12-Feb-10, 11-Feb-11, 10-Feb-12, 8-Feb-13\n",
    "\n",
    "Labour Day: 10-Sep-10, 9-Sep-11, 7-Sep-12, 6-Sep-13\n",
    "\n",
    "Thanksgiving: 26-Nov-10, 25-Nov-11, 23-Nov-12, 29-Nov-13\n",
    "\n",
    "Christmas: 31-Dec-10, 30-Dec-11, 28-Dec-12, 27-Dec-13"
   ]
  },
  {
   "cell_type": "code",
   "execution_count": 28,
   "id": "bdd79dc0",
   "metadata": {
    "scrolled": false
   },
   "outputs": [
    {
     "data": {
      "text/plain": [
       "2011    2340\n",
       "2010    2160\n",
       "2012    1935\n",
       "Name: Year, dtype: int64"
      ]
     },
     "execution_count": 28,
     "metadata": {},
     "output_type": "execute_result"
    }
   ],
   "source": [
    "df.Year.value_counts() #the year column is only up to 2012"
   ]
  },
  {
   "cell_type": "code",
   "execution_count": 29,
   "id": "9442bff4",
   "metadata": {},
   "outputs": [],
   "source": [
    "#  y m d\n",
    "# manually input holiday dates\n",
    "\n",
    "Super_Bowl =['2010-02-12', '2011-02-11', '2012-02-10']\n",
    "Labour_Day =  ['2010-09-10', '2011-09-09', '2012-09-07']\n",
    "Thanksgiving =  ['2010-11-26', '2011-11-25', '2012-11-23']\n",
    "Christmas = ['2010-12-31', '2011-12-30', '2012-12-28']\n",
    "\n",
    "def convertD(holiday):\n",
    "    for i in holiday:\n",
    "        pd.to_datetime(i)\n",
    "        \n",
    "convertD(Super_Bowl)\n",
    "convertD(Labour_Day)\n",
    "convertD(Thanksgiving)\n",
    "convertD(Christmas)"
   ]
  },
  {
   "cell_type": "code",
   "execution_count": 30,
   "id": "2df698b0",
   "metadata": {},
   "outputs": [
    {
     "data": {
      "text/plain": [
       "['2010-02-12', '2011-02-11', '2012-02-10']"
      ]
     },
     "execution_count": 30,
     "metadata": {},
     "output_type": "execute_result"
    }
   ],
   "source": [
    "Super_Bowl"
   ]
  },
  {
   "cell_type": "code",
   "execution_count": 31,
   "id": "d93b3462",
   "metadata": {},
   "outputs": [],
   "source": [
    "# extract data for each holiday\n",
    "\n",
    "Super_Bowl_Df = pd.DataFrame(df.loc[df.Date.isin(Super_Bowl)])\n",
    "Labour_Day_Df = pd.DataFrame(df.loc[df.Date.isin(Labour_Day)])\n",
    "Thanksgiving_Df = pd.DataFrame(df.loc[df.Date.isin(Thanksgiving)])\n",
    "Christmas_Df = pd.DataFrame(df.loc[df.Date.isin(Christmas)])"
   ]
  },
  {
   "cell_type": "code",
   "execution_count": 32,
   "id": "108c551c",
   "metadata": {
    "scrolled": true
   },
   "outputs": [
    {
     "data": {
      "text/html": [
       "<div>\n",
       "<style scoped>\n",
       "    .dataframe tbody tr th:only-of-type {\n",
       "        vertical-align: middle;\n",
       "    }\n",
       "\n",
       "    .dataframe tbody tr th {\n",
       "        vertical-align: top;\n",
       "    }\n",
       "\n",
       "    .dataframe thead th {\n",
       "        text-align: right;\n",
       "    }\n",
       "</style>\n",
       "<table border=\"1\" class=\"dataframe\">\n",
       "  <thead>\n",
       "    <tr style=\"text-align: right;\">\n",
       "      <th></th>\n",
       "      <th>Store</th>\n",
       "      <th>Date</th>\n",
       "      <th>Weekly_Sales</th>\n",
       "      <th>Holiday_Flag</th>\n",
       "      <th>Temperature</th>\n",
       "      <th>Fuel_Price</th>\n",
       "      <th>CPI</th>\n",
       "      <th>Unemployment</th>\n",
       "      <th>Year</th>\n",
       "      <th>Month</th>\n",
       "      <th>Day</th>\n",
       "    </tr>\n",
       "  </thead>\n",
       "  <tbody>\n",
       "  </tbody>\n",
       "</table>\n",
       "</div>"
      ],
      "text/plain": [
       "Empty DataFrame\n",
       "Columns: [Store, Date, Weekly_Sales, Holiday_Flag, Temperature, Fuel_Price, CPI, Unemployment, Year, Month, Day]\n",
       "Index: []"
      ]
     },
     "execution_count": 32,
     "metadata": {},
     "output_type": "execute_result"
    }
   ],
   "source": [
    "Super_Bowl_Df # the return output for super bowl holiday is empty"
   ]
  },
  {
   "cell_type": "code",
   "execution_count": 33,
   "id": "9b7a5fee",
   "metadata": {},
   "outputs": [
    {
     "data": {
      "text/html": [
       "<div>\n",
       "<style scoped>\n",
       "    .dataframe tbody tr th:only-of-type {\n",
       "        vertical-align: middle;\n",
       "    }\n",
       "\n",
       "    .dataframe tbody tr th {\n",
       "        vertical-align: top;\n",
       "    }\n",
       "\n",
       "    .dataframe thead th {\n",
       "        text-align: right;\n",
       "    }\n",
       "</style>\n",
       "<table border=\"1\" class=\"dataframe\">\n",
       "  <thead>\n",
       "    <tr style=\"text-align: right;\">\n",
       "      <th></th>\n",
       "      <th>Store</th>\n",
       "      <th>Date</th>\n",
       "      <th>Weekly_Sales</th>\n",
       "      <th>Holiday_Flag</th>\n",
       "      <th>Temperature</th>\n",
       "      <th>Fuel_Price</th>\n",
       "      <th>CPI</th>\n",
       "      <th>Unemployment</th>\n",
       "      <th>Year</th>\n",
       "      <th>Month</th>\n",
       "      <th>Day</th>\n",
       "    </tr>\n",
       "  </thead>\n",
       "  <tbody>\n",
       "    <tr>\n",
       "      <th>83</th>\n",
       "      <td>1</td>\n",
       "      <td>2011-09-09</td>\n",
       "      <td>1540471.24</td>\n",
       "      <td>1</td>\n",
       "      <td>76.00</td>\n",
       "      <td>3.546</td>\n",
       "      <td>215.861056</td>\n",
       "      <td>7.962</td>\n",
       "      <td>2011</td>\n",
       "      <td>9</td>\n",
       "      <td>9</td>\n",
       "    </tr>\n",
       "    <tr>\n",
       "      <th>226</th>\n",
       "      <td>2</td>\n",
       "      <td>2011-09-09</td>\n",
       "      <td>1748000.65</td>\n",
       "      <td>1</td>\n",
       "      <td>77.97</td>\n",
       "      <td>3.546</td>\n",
       "      <td>215.514829</td>\n",
       "      <td>7.852</td>\n",
       "      <td>2011</td>\n",
       "      <td>9</td>\n",
       "      <td>9</td>\n",
       "    </tr>\n",
       "    <tr>\n",
       "      <th>369</th>\n",
       "      <td>3</td>\n",
       "      <td>2011-09-09</td>\n",
       "      <td>377347.49</td>\n",
       "      <td>1</td>\n",
       "      <td>81.72</td>\n",
       "      <td>3.546</td>\n",
       "      <td>219.213530</td>\n",
       "      <td>7.567</td>\n",
       "      <td>2011</td>\n",
       "      <td>9</td>\n",
       "      <td>9</td>\n",
       "    </tr>\n",
       "    <tr>\n",
       "      <th>512</th>\n",
       "      <td>4</td>\n",
       "      <td>2011-09-09</td>\n",
       "      <td>2093139.01</td>\n",
       "      <td>1</td>\n",
       "      <td>73.34</td>\n",
       "      <td>3.554</td>\n",
       "      <td>129.368613</td>\n",
       "      <td>5.644</td>\n",
       "      <td>2011</td>\n",
       "      <td>9</td>\n",
       "      <td>9</td>\n",
       "    </tr>\n",
       "    <tr>\n",
       "      <th>655</th>\n",
       "      <td>5</td>\n",
       "      <td>2011-09-09</td>\n",
       "      <td>321110.22</td>\n",
       "      <td>1</td>\n",
       "      <td>79.04</td>\n",
       "      <td>3.546</td>\n",
       "      <td>216.422682</td>\n",
       "      <td>6.529</td>\n",
       "      <td>2011</td>\n",
       "      <td>9</td>\n",
       "      <td>9</td>\n",
       "    </tr>\n",
       "  </tbody>\n",
       "</table>\n",
       "</div>"
      ],
      "text/plain": [
       "     Store       Date  Weekly_Sales  Holiday_Flag  Temperature  Fuel_Price  \\\n",
       "83       1 2011-09-09    1540471.24             1        76.00       3.546   \n",
       "226      2 2011-09-09    1748000.65             1        77.97       3.546   \n",
       "369      3 2011-09-09     377347.49             1        81.72       3.546   \n",
       "512      4 2011-09-09    2093139.01             1        73.34       3.554   \n",
       "655      5 2011-09-09     321110.22             1        79.04       3.546   \n",
       "\n",
       "            CPI  Unemployment  Year  Month  Day  \n",
       "83   215.861056         7.962  2011      9    9  \n",
       "226  215.514829         7.852  2011      9    9  \n",
       "369  219.213530         7.567  2011      9    9  \n",
       "512  129.368613         5.644  2011      9    9  \n",
       "655  216.422682         6.529  2011      9    9  "
      ]
     },
     "execution_count": 33,
     "metadata": {},
     "output_type": "execute_result"
    }
   ],
   "source": [
    "Labour_Day_Df.head()"
   ]
  },
  {
   "cell_type": "code",
   "execution_count": 34,
   "id": "89d1963c",
   "metadata": {},
   "outputs": [
    {
     "data": {
      "text/plain": [
       "0    5985\n",
       "Name: Holiday_Flag, dtype: int64"
      ]
     },
     "execution_count": 34,
     "metadata": {},
     "output_type": "execute_result"
    }
   ],
   "source": [
    "# extract data for non-holiday days\n",
    "\n",
    "No_Holiday_Df=pd.DataFrame(df.loc[df.Holiday_Flag == 0])\n",
    "No_Holiday_Df.Holiday_Flag.value_counts()"
   ]
  },
  {
   "cell_type": "code",
   "execution_count": 35,
   "id": "dffd1c13",
   "metadata": {
    "scrolled": true
   },
   "outputs": [
    {
     "name": "stdout",
     "output_type": "stream",
     "text": [
      "Super bowl holiday mean sales :  nan\n",
      "Labour day holiday mean sales :  1039182.83\n",
      "Thanksgiving holiday mean sales :  1471273.43\n",
      "Christmas holiday mean sales :  960833.11\n",
      "No holiday mean sales :  1041256.38\n"
     ]
    }
   ],
   "source": [
    "#  Compute sales mean for each holiday\n",
    "\n",
    "# Super_Bowl_Df\n",
    "SB_mean = round(Super_Bowl_Df['Weekly_Sales'].mean(),2)\n",
    "print('Super bowl holiday mean sales : ',SB_mean)\n",
    " \n",
    "# Labour_Day_Df\n",
    "LB_mean = round(Labour_Day_Df['Weekly_Sales'].mean(),2)\n",
    "print('Labour day holiday mean sales : ', LB_mean)\n",
    "\n",
    "# Thanksgiving_Df\n",
    "TG_mean =round(Thanksgiving_Df['Weekly_Sales'].mean(),2)\n",
    "print('Thanksgiving holiday mean sales : ', TG_mean)\n",
    "\n",
    "# Christmas_Df\n",
    "CM_mean= round(Christmas_Df['Weekly_Sales'].mean(),2)\n",
    "print('Christmas holiday mean sales : ',CM_mean)\n",
    "\n",
    "# No_Holiday_Df\n",
    "NH_mean =round(No_Holiday_Df['Weekly_Sales'].mean(),2)\n",
    "print('No holiday mean sales : ', NH_mean)"
   ]
  },
  {
   "cell_type": "markdown",
   "id": "f13d1fbe",
   "metadata": {},
   "source": [
    "The super holiday has no sales data. The mean sales of the Thanksgiving holiday is higher than the mean sales of the weeks that had no holiday."
   ]
  },
  {
   "cell_type": "markdown",
   "id": "75163e4e",
   "metadata": {},
   "source": [
    "# Question 5 - Provide a monthly and semester view of sales in units and give insights"
   ]
  },
  {
   "cell_type": "code",
   "execution_count": 36,
   "id": "f1d2c659",
   "metadata": {},
   "outputs": [
    {
     "data": {
      "text/html": [
       "<div>\n",
       "<style scoped>\n",
       "    .dataframe tbody tr th:only-of-type {\n",
       "        vertical-align: middle;\n",
       "    }\n",
       "\n",
       "    .dataframe tbody tr th {\n",
       "        vertical-align: top;\n",
       "    }\n",
       "\n",
       "    .dataframe thead th {\n",
       "        text-align: right;\n",
       "    }\n",
       "</style>\n",
       "<table border=\"1\" class=\"dataframe\">\n",
       "  <thead>\n",
       "    <tr style=\"text-align: right;\">\n",
       "      <th></th>\n",
       "      <th>Store</th>\n",
       "      <th>Date</th>\n",
       "      <th>Weekly_Sales</th>\n",
       "      <th>Holiday_Flag</th>\n",
       "      <th>Temperature</th>\n",
       "      <th>Fuel_Price</th>\n",
       "      <th>CPI</th>\n",
       "      <th>Unemployment</th>\n",
       "      <th>Year</th>\n",
       "      <th>Month</th>\n",
       "      <th>Day</th>\n",
       "    </tr>\n",
       "  </thead>\n",
       "  <tbody>\n",
       "    <tr>\n",
       "      <th>0</th>\n",
       "      <td>1</td>\n",
       "      <td>2010-05-02</td>\n",
       "      <td>1643690.90</td>\n",
       "      <td>0</td>\n",
       "      <td>42.31</td>\n",
       "      <td>2.572</td>\n",
       "      <td>211.096358</td>\n",
       "      <td>8.106</td>\n",
       "      <td>2010</td>\n",
       "      <td>5</td>\n",
       "      <td>2</td>\n",
       "    </tr>\n",
       "    <tr>\n",
       "      <th>1</th>\n",
       "      <td>1</td>\n",
       "      <td>2010-12-02</td>\n",
       "      <td>1641957.44</td>\n",
       "      <td>1</td>\n",
       "      <td>38.51</td>\n",
       "      <td>2.548</td>\n",
       "      <td>211.242170</td>\n",
       "      <td>8.106</td>\n",
       "      <td>2010</td>\n",
       "      <td>12</td>\n",
       "      <td>2</td>\n",
       "    </tr>\n",
       "    <tr>\n",
       "      <th>2</th>\n",
       "      <td>1</td>\n",
       "      <td>2010-02-19</td>\n",
       "      <td>1611968.17</td>\n",
       "      <td>0</td>\n",
       "      <td>39.93</td>\n",
       "      <td>2.514</td>\n",
       "      <td>211.289143</td>\n",
       "      <td>8.106</td>\n",
       "      <td>2010</td>\n",
       "      <td>2</td>\n",
       "      <td>19</td>\n",
       "    </tr>\n",
       "    <tr>\n",
       "      <th>3</th>\n",
       "      <td>1</td>\n",
       "      <td>2010-02-26</td>\n",
       "      <td>1409727.59</td>\n",
       "      <td>0</td>\n",
       "      <td>46.63</td>\n",
       "      <td>2.561</td>\n",
       "      <td>211.319643</td>\n",
       "      <td>8.106</td>\n",
       "      <td>2010</td>\n",
       "      <td>2</td>\n",
       "      <td>26</td>\n",
       "    </tr>\n",
       "    <tr>\n",
       "      <th>4</th>\n",
       "      <td>1</td>\n",
       "      <td>2010-05-03</td>\n",
       "      <td>1554806.68</td>\n",
       "      <td>0</td>\n",
       "      <td>46.50</td>\n",
       "      <td>2.625</td>\n",
       "      <td>211.350143</td>\n",
       "      <td>8.106</td>\n",
       "      <td>2010</td>\n",
       "      <td>5</td>\n",
       "      <td>3</td>\n",
       "    </tr>\n",
       "    <tr>\n",
       "      <th>...</th>\n",
       "      <td>...</td>\n",
       "      <td>...</td>\n",
       "      <td>...</td>\n",
       "      <td>...</td>\n",
       "      <td>...</td>\n",
       "      <td>...</td>\n",
       "      <td>...</td>\n",
       "      <td>...</td>\n",
       "      <td>...</td>\n",
       "      <td>...</td>\n",
       "      <td>...</td>\n",
       "    </tr>\n",
       "    <tr>\n",
       "      <th>6430</th>\n",
       "      <td>45</td>\n",
       "      <td>2012-09-28</td>\n",
       "      <td>713173.95</td>\n",
       "      <td>0</td>\n",
       "      <td>64.88</td>\n",
       "      <td>3.997</td>\n",
       "      <td>192.013558</td>\n",
       "      <td>8.684</td>\n",
       "      <td>2012</td>\n",
       "      <td>9</td>\n",
       "      <td>28</td>\n",
       "    </tr>\n",
       "    <tr>\n",
       "      <th>6431</th>\n",
       "      <td>45</td>\n",
       "      <td>2012-05-10</td>\n",
       "      <td>733455.07</td>\n",
       "      <td>0</td>\n",
       "      <td>64.89</td>\n",
       "      <td>3.985</td>\n",
       "      <td>192.170412</td>\n",
       "      <td>8.667</td>\n",
       "      <td>2012</td>\n",
       "      <td>5</td>\n",
       "      <td>10</td>\n",
       "    </tr>\n",
       "    <tr>\n",
       "      <th>6432</th>\n",
       "      <td>45</td>\n",
       "      <td>2012-12-10</td>\n",
       "      <td>734464.36</td>\n",
       "      <td>0</td>\n",
       "      <td>54.47</td>\n",
       "      <td>4.000</td>\n",
       "      <td>192.327265</td>\n",
       "      <td>8.667</td>\n",
       "      <td>2012</td>\n",
       "      <td>12</td>\n",
       "      <td>10</td>\n",
       "    </tr>\n",
       "    <tr>\n",
       "      <th>6433</th>\n",
       "      <td>45</td>\n",
       "      <td>2012-10-19</td>\n",
       "      <td>718125.53</td>\n",
       "      <td>0</td>\n",
       "      <td>56.47</td>\n",
       "      <td>3.969</td>\n",
       "      <td>192.330854</td>\n",
       "      <td>8.667</td>\n",
       "      <td>2012</td>\n",
       "      <td>10</td>\n",
       "      <td>19</td>\n",
       "    </tr>\n",
       "    <tr>\n",
       "      <th>6434</th>\n",
       "      <td>45</td>\n",
       "      <td>2012-10-26</td>\n",
       "      <td>760281.43</td>\n",
       "      <td>0</td>\n",
       "      <td>58.85</td>\n",
       "      <td>3.882</td>\n",
       "      <td>192.308899</td>\n",
       "      <td>8.667</td>\n",
       "      <td>2012</td>\n",
       "      <td>10</td>\n",
       "      <td>26</td>\n",
       "    </tr>\n",
       "  </tbody>\n",
       "</table>\n",
       "<p>6435 rows × 11 columns</p>\n",
       "</div>"
      ],
      "text/plain": [
       "      Store       Date  Weekly_Sales  Holiday_Flag  Temperature  Fuel_Price  \\\n",
       "0         1 2010-05-02    1643690.90             0        42.31       2.572   \n",
       "1         1 2010-12-02    1641957.44             1        38.51       2.548   \n",
       "2         1 2010-02-19    1611968.17             0        39.93       2.514   \n",
       "3         1 2010-02-26    1409727.59             0        46.63       2.561   \n",
       "4         1 2010-05-03    1554806.68             0        46.50       2.625   \n",
       "...     ...        ...           ...           ...          ...         ...   \n",
       "6430     45 2012-09-28     713173.95             0        64.88       3.997   \n",
       "6431     45 2012-05-10     733455.07             0        64.89       3.985   \n",
       "6432     45 2012-12-10     734464.36             0        54.47       4.000   \n",
       "6433     45 2012-10-19     718125.53             0        56.47       3.969   \n",
       "6434     45 2012-10-26     760281.43             0        58.85       3.882   \n",
       "\n",
       "             CPI  Unemployment  Year  Month  Day  \n",
       "0     211.096358         8.106  2010      5    2  \n",
       "1     211.242170         8.106  2010     12    2  \n",
       "2     211.289143         8.106  2010      2   19  \n",
       "3     211.319643         8.106  2010      2   26  \n",
       "4     211.350143         8.106  2010      5    3  \n",
       "...          ...           ...   ...    ...  ...  \n",
       "6430  192.013558         8.684  2012      9   28  \n",
       "6431  192.170412         8.667  2012      5   10  \n",
       "6432  192.327265         8.667  2012     12   10  \n",
       "6433  192.330854         8.667  2012     10   19  \n",
       "6434  192.308899         8.667  2012     10   26  \n",
       "\n",
       "[6435 rows x 11 columns]"
      ]
     },
     "execution_count": 36,
     "metadata": {},
     "output_type": "execute_result"
    }
   ],
   "source": [
    "df"
   ]
  },
  {
   "cell_type": "code",
   "execution_count": 37,
   "id": "00b8d917",
   "metadata": {},
   "outputs": [],
   "source": [
    "# extract data for each year\n",
    "\n",
    "monthly_sales_2010 = df[df['Year']==2010]['Weekly_Sales'].groupby(df['Month']).mean()\n",
    "monthly_sales_2011 = df[df['Year']==2011]['Weekly_Sales'].groupby(df['Month']).mean()\n",
    "monthly_sales_2012 = df[df['Year']==2012]['Weekly_Sales'].groupby(df['Month']).mean()"
   ]
  },
  {
   "cell_type": "code",
   "execution_count": 38,
   "id": "032904a5",
   "metadata": {},
   "outputs": [
    {
     "data": {
      "text/plain": [
       "Month\n",
       "1     9.386639e+05\n",
       "2     1.064372e+06\n",
       "3     1.034590e+06\n",
       "4     1.021177e+06\n",
       "5     1.039303e+06\n",
       "6     1.055082e+06\n",
       "7     1.023702e+06\n",
       "8     1.025212e+06\n",
       "9     9.983559e+05\n",
       "10    1.027201e+06\n",
       "11    1.176097e+06\n",
       "12    1.198413e+06\n",
       "Name: Weekly_Sales, dtype: float64"
      ]
     },
     "execution_count": 38,
     "metadata": {},
     "output_type": "execute_result"
    }
   ],
   "source": [
    "# view sample output\n",
    "monthly_sales_2010"
   ]
  },
  {
   "cell_type": "code",
   "execution_count": 39,
   "id": "7af8fd33",
   "metadata": {},
   "outputs": [
    {
     "data": {
      "text/plain": [
       "<AxesSubplot:xlabel='Month'>"
      ]
     },
     "execution_count": 39,
     "metadata": {},
     "output_type": "execute_result"
    },
    {
     "data": {
      "image/png": "[encoded data removed]",
      "text/plain": [
       "<Figure size 432x288 with 1 Axes>"
      ]
     },
     "metadata": {
      "needs_background": "light"
     },
     "output_type": "display_data"
    }
   ],
   "source": [
    "# monthly_sales_2010  # line plot of sales margin for 2010 per every 2 months\n",
    "sns.lineplot(monthly_sales_2010.index, monthly_sales_2010.values, color='blue') "
   ]
  },
  {
   "cell_type": "code",
   "execution_count": 40,
   "id": "45557645",
   "metadata": {},
   "outputs": [
    {
     "data": {
      "text/plain": [
       "<AxesSubplot:xlabel='Month'>"
      ]
     },
     "execution_count": 40,
     "metadata": {},
     "output_type": "execute_result"
    },
    {
     "data": {
      "image/png": "[encoded data removed]",
      "text/plain": [
       "<Figure size 432x288 with 1 Axes>"
      ]
     },
     "metadata": {
      "needs_background": "light"
     },
     "output_type": "display_data"
    }
   ],
   "source": [
    "# monthly_sales_2011\n",
    "sns.lineplot(monthly_sales_2011.index, monthly_sales_2011.values, color='orange')"
   ]
  },
  {
   "cell_type": "code",
   "execution_count": 41,
   "id": "c5c49286",
   "metadata": {},
   "outputs": [
    {
     "data": {
      "text/plain": [
       "<AxesSubplot:xlabel='Month'>"
      ]
     },
     "execution_count": 41,
     "metadata": {},
     "output_type": "execute_result"
    },
    {
     "data": {
      "image/png": "[encoded data removed]",
      "text/plain": [
       "<Figure size 432x288 with 1 Axes>"
      ]
     },
     "metadata": {
      "needs_background": "light"
     },
     "output_type": "display_data"
    }
   ],
   "source": [
    "# monthly_sales_2012\n",
    "sns.lineplot(monthly_sales_2012.index, monthly_sales_2012.values, color='green')"
   ]
  },
  {
   "cell_type": "code",
   "execution_count": 54,
   "id": "2ffcb9d0",
   "metadata": {
    "scrolled": false
   },
   "outputs": [
    {
     "data": {
      "image/png": "[encoded data removed]",
      "text/plain": [
       "<Figure size 720x432 with 1 Axes>"
      ]
     },
     "metadata": {
      "needs_background": "light"
     },
     "output_type": "display_data"
    }
   ],
   "source": [
    "# inspiration: https://www.analyticsvidhya.com/blog/2022/01/walmarts-sales-analysis-through-data-visualization/\n",
    "\n",
    "import numpy as np\n",
    "# plotting monthly sales margin for all the years\n",
    "\n",
    "plt.figure(figsize=(10,6)) # size of chart\n",
    "sns.lineplot(monthly_sales_2010.index, monthly_sales_2010.values) # 2010 data\n",
    "sns.lineplot(monthly_sales_2011.index, monthly_sales_2011.values) # 2011 data\n",
    "sns.lineplot(monthly_sales_2012.index, monthly_sales_2012.values) # 2012 data\n",
    "plt.grid() # background of chart\n",
    "plt.xticks(np.arange(1,15, step=1)) # x-axis value/length\n",
    "plt.ticklabel_format(useOffset=False, style='plain', axis='y') #format values on y-axis\n",
    "\n",
    "plt.legend(['2010', '2011', '2012'], loc='best', fontsize=14) # line plot label\n",
    "plt.title('Average Monthly Sales Per Year', fontsize=15) #chart title\n",
    "plt.ylabel('Sales', fontsize=14) # name for y-axis\n",
    "plt.xlabel('Month', fontsize=14) # name for x-axis\n",
    "plt.show() # show result"
   ]
  },
  {
   "cell_type": "markdown",
   "id": "27801968",
   "metadata": {},
   "source": [
    "Insights of the line plots:\n",
    "    \n",
    "a) sales for all the years is on the rise in the first month of the year but descreases in february\n",
    "\n",
    "b) there was a decrease in the december sales of 2012 while 2010 and 2011 had positive growth"
   ]
  },
  {
   "cell_type": "markdown",
   "id": "30a465b4",
   "metadata": {},
   "source": [
    "Sales decreases mostly in January and rises significantly in November and December, this is most likely as a result of the Thanksgiving and Christmas holidays as sales flunctuate (mostly on negative side) during the prior months before November and December."
   ]
  },
  {
   "cell_type": "markdown",
   "id": "d00e6a17",
   "metadata": {},
   "source": [
    "# Prediction models to forecast demand for all stores"
   ]
  },
  {
   "cell_type": "code",
   "execution_count": 43,
   "id": "ce70b90d",
   "metadata": {},
   "outputs": [
    {
     "data": {
      "text/html": [
       "<div>\n",
       "<style scoped>\n",
       "    .dataframe tbody tr th:only-of-type {\n",
       "        vertical-align: middle;\n",
       "    }\n",
       "\n",
       "    .dataframe tbody tr th {\n",
       "        vertical-align: top;\n",
       "    }\n",
       "\n",
       "    .dataframe thead th {\n",
       "        text-align: right;\n",
       "    }\n",
       "</style>\n",
       "<table border=\"1\" class=\"dataframe\">\n",
       "  <thead>\n",
       "    <tr style=\"text-align: right;\">\n",
       "      <th></th>\n",
       "      <th>Store</th>\n",
       "      <th>Date</th>\n",
       "      <th>Weekly_Sales</th>\n",
       "      <th>Holiday_Flag</th>\n",
       "      <th>Temperature</th>\n",
       "      <th>Fuel_Price</th>\n",
       "      <th>CPI</th>\n",
       "      <th>Unemployment</th>\n",
       "      <th>Year</th>\n",
       "      <th>Month</th>\n",
       "      <th>Day</th>\n",
       "    </tr>\n",
       "  </thead>\n",
       "  <tbody>\n",
       "    <tr>\n",
       "      <th>0</th>\n",
       "      <td>1</td>\n",
       "      <td>2010-05-02</td>\n",
       "      <td>1643690.90</td>\n",
       "      <td>0</td>\n",
       "      <td>42.31</td>\n",
       "      <td>2.572</td>\n",
       "      <td>211.096358</td>\n",
       "      <td>8.106</td>\n",
       "      <td>2010</td>\n",
       "      <td>5</td>\n",
       "      <td>2</td>\n",
       "    </tr>\n",
       "    <tr>\n",
       "      <th>1</th>\n",
       "      <td>1</td>\n",
       "      <td>2010-12-02</td>\n",
       "      <td>1641957.44</td>\n",
       "      <td>1</td>\n",
       "      <td>38.51</td>\n",
       "      <td>2.548</td>\n",
       "      <td>211.242170</td>\n",
       "      <td>8.106</td>\n",
       "      <td>2010</td>\n",
       "      <td>12</td>\n",
       "      <td>2</td>\n",
       "    </tr>\n",
       "    <tr>\n",
       "      <th>2</th>\n",
       "      <td>1</td>\n",
       "      <td>2010-02-19</td>\n",
       "      <td>1611968.17</td>\n",
       "      <td>0</td>\n",
       "      <td>39.93</td>\n",
       "      <td>2.514</td>\n",
       "      <td>211.289143</td>\n",
       "      <td>8.106</td>\n",
       "      <td>2010</td>\n",
       "      <td>2</td>\n",
       "      <td>19</td>\n",
       "    </tr>\n",
       "    <tr>\n",
       "      <th>3</th>\n",
       "      <td>1</td>\n",
       "      <td>2010-02-26</td>\n",
       "      <td>1409727.59</td>\n",
       "      <td>0</td>\n",
       "      <td>46.63</td>\n",
       "      <td>2.561</td>\n",
       "      <td>211.319643</td>\n",
       "      <td>8.106</td>\n",
       "      <td>2010</td>\n",
       "      <td>2</td>\n",
       "      <td>26</td>\n",
       "    </tr>\n",
       "    <tr>\n",
       "      <th>4</th>\n",
       "      <td>1</td>\n",
       "      <td>2010-05-03</td>\n",
       "      <td>1554806.68</td>\n",
       "      <td>0</td>\n",
       "      <td>46.50</td>\n",
       "      <td>2.625</td>\n",
       "      <td>211.350143</td>\n",
       "      <td>8.106</td>\n",
       "      <td>2010</td>\n",
       "      <td>5</td>\n",
       "      <td>3</td>\n",
       "    </tr>\n",
       "  </tbody>\n",
       "</table>\n",
       "</div>"
      ],
      "text/plain": [
       "   Store       Date  Weekly_Sales  Holiday_Flag  Temperature  Fuel_Price  \\\n",
       "0      1 2010-05-02    1643690.90             0        42.31       2.572   \n",
       "1      1 2010-12-02    1641957.44             1        38.51       2.548   \n",
       "2      1 2010-02-19    1611968.17             0        39.93       2.514   \n",
       "3      1 2010-02-26    1409727.59             0        46.63       2.561   \n",
       "4      1 2010-05-03    1554806.68             0        46.50       2.625   \n",
       "\n",
       "          CPI  Unemployment  Year  Month  Day  \n",
       "0  211.096358         8.106  2010      5    2  \n",
       "1  211.242170         8.106  2010     12    2  \n",
       "2  211.289143         8.106  2010      2   19  \n",
       "3  211.319643         8.106  2010      2   26  \n",
       "4  211.350143         8.106  2010      5    3  "
      ]
     },
     "execution_count": 43,
     "metadata": {},
     "output_type": "execute_result"
    }
   ],
   "source": [
    "df.head()"
   ]
  },
  {
   "cell_type": "code",
   "execution_count": 44,
   "id": "3a3d638b",
   "metadata": {},
   "outputs": [],
   "source": [
    "from sklearn.model_selection import train_test_split, cross_val_score\n",
    "from sklearn.linear_model import LinearRegression\n",
    "from sklearn.tree import DecisionTreeRegressor\n",
    "from sklearn.metrics import r2_score, mean_squared_error, mean_absolute_error\n",
    "\n",
    "df2=df.copy()\n",
    "\n",
    "# splitting original dataset into X (independent feature) and y (dependent feature)\n",
    "X = df2.drop(['Weekly_Sales','Date'], axis=1)\n",
    "y = df2['Weekly_Sales']\n",
    "\n",
    "X_train, X_test, y_train, y_test = train_test_split(X, y, test_size=0.3, random_state=0)"
   ]
  },
  {
   "cell_type": "code",
   "execution_count": 45,
   "id": "9faa007a",
   "metadata": {},
   "outputs": [
    {
     "name": "stdout",
     "output_type": "stream",
     "text": [
      "Mean Squared Error => 271380214829.6\n",
      "Model Accuracy => 15.98\n"
     ]
    },
    {
     "data": {
      "text/plain": [
       "<AxesSubplot:ylabel='Weekly_Sales'>"
      ]
     },
     "execution_count": 45,
     "metadata": {},
     "output_type": "execute_result"
    },
    {
     "data": {
      "image/png": "[encoded data removed]",
      "text/plain": [
       "<Figure size 432x288 with 1 Axes>"
      ]
     },
     "metadata": {
      "needs_background": "light"
     },
     "output_type": "display_data"
    }
   ],
   "source": [
    "# Linear Regression Model for all stores\n",
    "\n",
    "lir =LinearRegression()\n",
    "lir.fit(X_train, y_train)\n",
    "preds = lir.predict(X_test)\n",
    "\n",
    "print('Mean Squared Error => {mse}'.format(mse=(round(mean_squared_error(y_test, preds),2))))\n",
    "print('Model Accuracy => {acc}'.format(acc=round(lir.score(X_test, y_test)*100, 2)))\n",
    "sns.scatterplot(preds, y_test)"
   ]
  },
  {
   "cell_type": "code",
   "execution_count": 46,
   "id": "c67687da",
   "metadata": {},
   "outputs": [
    {
     "name": "stdout",
     "output_type": "stream",
     "text": [
      "Mean Squared Error => 21233400439.77\n",
      "Model Accuracy => 93.43\n"
     ]
    },
    {
     "data": {
      "text/plain": [
       "<AxesSubplot:ylabel='Weekly_Sales'>"
      ]
     },
     "execution_count": 46,
     "metadata": {},
     "output_type": "execute_result"
    },
    {
     "data": {
      "image/png": "[encoded data removed]",
      "text/plain": [
       "<Figure size 432x288 with 1 Axes>"
      ]
     },
     "metadata": {
      "needs_background": "light"
     },
     "output_type": "display_data"
    }
   ],
   "source": [
    "# Descision Tree Regressor Model\n",
    "\n",
    "dtr =DecisionTreeRegressor()\n",
    "dtr.fit(X_train, y_train)\n",
    "preds0 = dtr.predict(X_test)\n",
    "\n",
    "print('Mean Squared Error => {mse}'.format(mse=(round(mean_squared_error(y_test, preds0),2))))\n",
    "print('Model Accuracy => {acc}'.format(acc=round(dtr.score(X_test, y_test)*100, 2)))\n",
    "sns.scatterplot(preds0, y_test)"
   ]
  },
  {
   "cell_type": "markdown",
   "id": "6b09ba08",
   "metadata": {},
   "source": [
    "The Decision tree algorithm performed better on the data compared to the Linear regression algorithm. It is a little obvious with the scatterplot. The plot for the Decision Tree algotithm shows an upward slope while Linear regression plot shows heteroskedasticity"
   ]
  },
  {
   "cell_type": "markdown",
   "id": "88c32c54",
   "metadata": {},
   "source": [
    "# Prediction models to forecast demand for store 1"
   ]
  },
  {
   "cell_type": "code",
   "execution_count": 47,
   "id": "ea64671d",
   "metadata": {},
   "outputs": [
    {
     "data": {
      "text/plain": [
       "Index(['Store', 'Weekly_Sales', 'Holiday_Flag', 'Temperature', 'Fuel_Price',\n",
       "       'CPI', 'Unemployment', 'Year', 'Month', 'Day'],\n",
       "      dtype='object')"
      ]
     },
     "execution_count": 47,
     "metadata": {},
     "output_type": "execute_result"
    }
   ],
   "source": [
    "store_1 = pd.DataFrame(df.loc[df.Store == 1])\n",
    "store_1 = store_1.drop('Date', axis=1)\n",
    "store_1.columns"
   ]
  },
  {
   "cell_type": "code",
   "execution_count": 48,
   "id": "062e88a7",
   "metadata": {},
   "outputs": [
    {
     "data": {
      "text/plain": [
       "1    143\n",
       "Name: Store, dtype: int64"
      ]
     },
     "execution_count": 48,
     "metadata": {},
     "output_type": "execute_result"
    }
   ],
   "source": [
    "store_1.Store.value_counts()"
   ]
  },
  {
   "cell_type": "code",
   "execution_count": 49,
   "id": "21f7ae07",
   "metadata": {
    "scrolled": true
   },
   "outputs": [
    {
     "data": {
      "image/png": "[encoded data removed]",
      "text/plain": [
       "<Figure size 720x360 with 2 Axes>"
      ]
     },
     "metadata": {
      "needs_background": "light"
     },
     "output_type": "display_data"
    }
   ],
   "source": [
    "plt.figure(figsize = (10,5))\n",
    "sns.heatmap(store_1.corr(), annot=True, fmt=\".2f\");"
   ]
  },
  {
   "cell_type": "markdown",
   "id": "c50fddba",
   "metadata": {},
   "source": [
    "None of the other variables show a major correlation with the weekly_sales variable"
   ]
  },
  {
   "cell_type": "code",
   "execution_count": 50,
   "id": "4cd7137b",
   "metadata": {},
   "outputs": [],
   "source": [
    "from sklearn.model_selection import train_test_split, cross_val_score\n",
    "from sklearn.linear_model import LinearRegression\n",
    "from sklearn.tree import DecisionTreeRegressor\n",
    "from sklearn.metrics import r2_score, mean_squared_error, mean_absolute_error\n",
    "\n",
    "X2 = store_1.drop(['Weekly_Sales'], axis=1)\n",
    "y2= store_1['Weekly_Sales']\n",
    "\n",
    "X2_train, X2_test, y2_train, y2_test = train_test_split(X2, y2, test_size=0.3, random_state=0)"
   ]
  },
  {
   "cell_type": "code",
   "execution_count": 51,
   "id": "055da49c",
   "metadata": {},
   "outputs": [
    {
     "name": "stdout",
     "output_type": "stream",
     "text": [
      "Mean Squared Error => 16416645411.33\n",
      "Model Accuracy => 26.88\n"
     ]
    },
    {
     "data": {
      "text/plain": [
       "<AxesSubplot:ylabel='Weekly_Sales'>"
      ]
     },
     "execution_count": 51,
     "metadata": {},
     "output_type": "execute_result"
    },
    {
     "data": {
      "image/png": "[encoded data removed]",
      "text/plain": [
       "<Figure size 432x288 with 1 Axes>"
      ]
     },
     "metadata": {
      "needs_background": "light"
     },
     "output_type": "display_data"
    }
   ],
   "source": [
    "# Linear Regression Model\n",
    "\n",
    "lir =LinearRegression()\n",
    "lir.fit(X2_train, y2_train)\n",
    "preds2 = lir.predict(X2_test)\n",
    "\n",
    "print('Mean Squared Error => {mse}'.format(mse=(round(mean_squared_error(y2_test, preds2),2))))\n",
    "print('Model Accuracy => {acc}'.format(acc=round(lir.score(X2_test, y2_test)*100, 2)))\n",
    "sns.scatterplot(preds2, y2_test)"
   ]
  },
  {
   "cell_type": "code",
   "execution_count": 52,
   "id": "57f5e542",
   "metadata": {},
   "outputs": [
    {
     "name": "stdout",
     "output_type": "stream",
     "text": [
      "Mean Squared Error => 19930140651.92\n",
      "Model Accuracy => 11.23\n"
     ]
    },
    {
     "data": {
      "text/plain": [
       "<AxesSubplot:ylabel='Weekly_Sales'>"
      ]
     },
     "execution_count": 52,
     "metadata": {},
     "output_type": "execute_result"
    },
    {
     "data": {
      "image/png": "[encoded data removed]",
      "text/plain": [
       "<Figure size 432x288 with 1 Axes>"
      ]
     },
     "metadata": {
      "needs_background": "light"
     },
     "output_type": "display_data"
    }
   ],
   "source": [
    "# Descision Tree Regressor Model\n",
    "\n",
    "dtr =DecisionTreeRegressor()\n",
    "dtr.fit(X2_train, y2_train)\n",
    "preds2 = dtr.predict(X2_test)\n",
    "\n",
    "print('Mean Squared Error => {mse}'.format(mse=(round(mean_squared_error(y2_test, preds2),2))))\n",
    "print('Model Accuracy => {acc}'.format(acc=round(dtr.score(X2_test, y2_test)*100, 2)))\n",
    "sns.scatterplot(preds2, y2_test)"
   ]
  },
  {
   "cell_type": "markdown",
   "id": "c61efe28",
   "metadata": {},
   "source": [
    "Looking at the scatter plot we can tell that the linear regression algorithm performed better compared to the decision tree algorithm, the mean squared error is on the lower side as well"
   ]
  }
 ],
 "metadata": {
  "kernelspec": {
   "display_name": "Python 3",
   "language": "python",
   "name": "python3"
  },
  "language_info": {
   "codemirror_mode": {
    "name": "ipython",
    "version": 3
   },
   "file_extension": ".py",
   "mimetype": "text/x-python",
   "name": "python",
   "nbconvert_exporter": "python",
   "pygments_lexer": "ipython3",
   "version": "3.8.8"
  }
 },
 "nbformat": 4,
 "nbformat_minor": 5
}
